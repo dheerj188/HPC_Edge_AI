{
 "cells": [
  {
   "cell_type": "code",
   "execution_count": 1,
   "id": "77c9def6",
   "metadata": {},
   "outputs": [
    {
     "data": {
      "text/plain": [
       "\" \\nServer Description:\\n\\n0) Server System: Dell Precision 5520 series with 32 GB RAM and 2Tb SSD\\n\\n1) Devices available:\\n\\n    Nvidia Quadro GPU- 1\\n\\n    Intel Graphics Card- 1 \\n\\n    Intel octacore i7 7th gen processor- 1\\n\\n    (1 processor to be used as host)\\n\\n2) Request format:\\n\\n    Requests come as tasks through python's socket programming \\n\\n3) Tasks:\\n     \\n     (Image processing and ML oriented kernels with accurate input and output dimension description)\\n     \\n     Input data and output data shape\\n     \\n     task dependent data description \\n     \\n\""
      ]
     },
     "execution_count": 1,
     "metadata": {},
     "output_type": "execute_result"
    }
   ],
   "source": [
    "\"\"\" \n",
    "Server Description:\n",
    "\n",
    "0) Server System: Dell Precision 5520 series with 32 GB RAM and 2Tb SSD\n",
    "\n",
    "1) Devices available:\n",
    "\n",
    "    Nvidia Quadro GPU- 1\n",
    "\n",
    "    Intel Graphics Card- 1 \n",
    "\n",
    "    Intel octacore i7 7th gen processor- 1\n",
    "\n",
    "    (1 processor to be used as host)\n",
    "\n",
    "2) Request format:\n",
    "\n",
    "    Requests come as tasks through python's socket programming \n",
    "\n",
    "3) Tasks:\n",
    "     \n",
    "     (Image processing and ML oriented kernels with accurate input and output dimension description)\n",
    "     \n",
    "     Input data and output data shape\n",
    "     \n",
    "     task dependent data description \n",
    "     \n",
    "\"\"\""
   ]
  },
  {
   "cell_type": "code",
   "execution_count": 2,
   "id": "ac62528f",
   "metadata": {},
   "outputs": [],
   "source": [
    "import numpy as np\n",
    "\n",
    "import pyopencl as cl\n",
    "\n",
    "import matplotlib.pyplot as plt\n",
    "\n",
    "import math\n",
    "\n",
    "import random \n",
    "\n",
    "import multiprocessing\n",
    "\n",
    "import socket\n",
    "\n",
    "import time\n"
   ]
  },
  {
   "cell_type": "code",
   "execution_count": 3,
   "id": "502d1e11",
   "metadata": {},
   "outputs": [
    {
     "data": {
      "text/plain": [
       "5"
      ]
     },
     "execution_count": 3,
     "metadata": {},
     "output_type": "execute_result"
    }
   ],
   "source": [
    "\"\"\" Set up the server's platform and devices \"\"\"\n",
    "\n",
    "platforms= cl.get_platforms()\n",
    "\n",
    "platform_GPU0= [platform for platform in platforms if platform.name== \"Intel(R) OpenCL HD Graphics\"][0]\n",
    "\n",
    "platform_GPU1= [platform for platform in platforms if platform.name== \"NVIDIA CUDA\"][0]\n",
    "\n",
    "platform_CPU= [platform for platform in platforms if platform.name== \"Intel(R) OpenCL\"][0]\n",
    "\n",
    "devices_GPU0= platform_GPU0.get_devices()\n",
    "\n",
    "devices_CPU= platform_CPU.get_devices()\n",
    "\n",
    "devices_GPU1= platform_GPU1.get_devices()\n",
    "\n",
    "devices_GPU1[0].get_info(cl.device_info.MAX_COMPUTE_UNITS)\n"
   ]
  },
  {
   "cell_type": "code",
   "execution_count": 4,
   "id": "e5b6beae",
   "metadata": {},
   "outputs": [],
   "source": [
    "def next_state(x):\n",
    "    \n",
    "    if(x==1):\n",
    "        \n",
    "        return 0\n",
    "    \n",
    "    else:\n",
    "        \n",
    "        x+=1\n",
    "        \n",
    "        return x"
   ]
  },
  {
   "cell_type": "code",
   "execution_count": 5,
   "id": "6bd6f615",
   "metadata": {},
   "outputs": [],
   "source": [
    "\"\"\" Queue Task Scheduler for the server \"\"\"\n",
    "\n",
    "\"\"\" \n",
    "Task Architecture:\n",
    "\n",
    "1) kernel\n",
    "\n",
    "2) input_data\n",
    "\n",
    "3) output_data_bytes \n",
    "\n",
    "\"\"\"\n",
    "\n",
    "class Task_Scheduler:\n",
    "    \n",
    "    \"\"\" This task scheduler assumes that all the devices have same number queues which is usually not the case\"\"\"\n",
    "    \n",
    "    \"\"\" Weighted Round Robin Scheduler \"\"\"\n",
    "    \n",
    "    def __init__(self):\n",
    "        \n",
    "        self.num_devices= 2\n",
    "        \n",
    "        self.num_queues= 3\n",
    "        \n",
    "        self.device_state=0\n",
    "        \n",
    "        self.next_device_state=0\n",
    "        \n",
    "        self.c_count=0\n",
    "        \n",
    "        self.n_count=1\n",
    "        \n",
    "    def device_update_state(self):\n",
    "        \n",
    "        self.device_state= self.next_device_state\n",
    "        \n",
    "        self.c_count= self.n_count\n",
    "        \n",
    "        if(self.device_state== 0):\n",
    "            \n",
    "            if(self.c_count!= 24):\n",
    "                \n",
    "                self.next_device_state= self.device_state\n",
    "                \n",
    "                self.n_count= self.c_count+1\n",
    "                \n",
    "            elif(self.c_count== 24):\n",
    "                \n",
    "                self.next_device_state= next_state(self.device_state)\n",
    "                \n",
    "                self.n_count=0\n",
    "                \n",
    "                \n",
    "        if(self.device_state==1):\n",
    "            \n",
    "            if(self.c_count!= 5):\n",
    "                \n",
    "                self.next_device_state= self.device_state\n",
    "                \n",
    "                self.n_count= self.c_count+1\n",
    "                \n",
    "            elif(self.c_count== 5):\n",
    "                \n",
    "                self.next_device_state= next_state(self.device_state)\n",
    "                \n",
    "                self.n_count=0\n",
    "        \n",
    "        return None \n",
    "    \n",
    "    def offload_to_device(self, task):\n",
    "        \n",
    "        server= Server()\n",
    "        \n",
    "        device= self.device_state\n",
    "        \n",
    "        if(device==0):\n",
    "            \n",
    "            q_index= random.randint(0,2)\n",
    "            \n",
    "            server.create_device_queues(self.num_queues)\n",
    "            \n",
    "            Buffers, prg= server.configure_host_device(server.ctx_gpu0, server.queues_gpu0[q_index], task[0], task[1], task[2])\n",
    "            \n",
    "            server.enqueue_task(server.ctx_gpu0, server.queues_gpu0[q_index], prg, Buffers)\n",
    "            \n",
    "            out= server.copy_device_host(server.queues_gpu0[q_index], Buffers, task[2])\n",
    "            \n",
    "            server.free_buffers(Buffers)\n",
    "            \n",
    "        if(device==1):\n",
    "            \n",
    "            q_index= random.randint(0,2)\n",
    "            \n",
    "            server.create_device_queues(self.num_queues)\n",
    "            \n",
    "            Buffers, prg= server.configure_host_device(server.ctx_gpu1, server.queues_gpu1[q_index], task[0], task[1], task[2])\n",
    "            \n",
    "            server.enqueue_task(server.ctx_gpu1, server.queues_gpu1[q_index], prg, Buffers)\n",
    "            \n",
    "            out= server.copy_device_host(server.queues_gpu1[q_index], Buffers, task[2])\n",
    "            \n",
    "            server.free_buffers(Buffers)\n",
    "            \n",
    "        return out\n"
   ]
  },
  {
   "cell_type": "code",
   "execution_count": 6,
   "id": "e6240b42",
   "metadata": {},
   "outputs": [],
   "source": [
    "\"\"\" \n",
    "Server Module:\n",
    "\n",
    "hardware and software functionalities are defined here \n",
    "\n",
    "Server is assumed to have all the devices mentioned in the description \n",
    "\n",
    "\"\"\"\n",
    "class Server:\n",
    "    \n",
    "    def __init__(self):\n",
    "        \n",
    "        \"\"\" server device level info\"\"\"\n",
    "        \n",
    "        self.device_gpu0= devices_GPU0\n",
    "        \n",
    "        self.device_gpu1= devices_GPU1\n",
    "        \n",
    "        self.device_cpu= devices_CPU\n",
    "        \n",
    "        \"\"\" contexts for the device installed on server \"\"\"\n",
    "        \n",
    "        self.ctx_gpu0= cl.Context(devices_GPU0)\n",
    "        \n",
    "        self.ctx_gpu1= cl.Context(devices_GPU1)\n",
    "        \n",
    "        self.ctx_cpu= cl.Context(devices_CPU)\n",
    "        \n",
    "        \"\"\" queues for each devices (pointers will be stored in lists) \"\"\"\n",
    "        \n",
    "        self.queues_gpu0= []\n",
    "        \n",
    "        self.queues_gpu1= []\n",
    "        \n",
    "        self.queues_cpu= []\n",
    "        \n",
    "    \"\"\" create_device_queue creates command queue objects for all the defined devices. \"\"\"\n",
    "        \n",
    "    def create_device_queues(self, num_queues):\n",
    "        \n",
    "        for i in range(num_queues):\n",
    "            \n",
    "            self.queues_gpu0.append(cl.CommandQueue(self.ctx_gpu0))\n",
    "            \n",
    "            self.queues_gpu1.append(cl.CommandQueue(self.ctx_gpu1))\n",
    "            \n",
    "            self.queues_cpu.append(cl.CommandQueue(self.ctx_cpu))\n",
    "            \n",
    "        return None\n",
    "            \n",
    "    \"\"\" \n",
    "    input_data structure:\n",
    "    \n",
    "    2d numpy array containing all the input tasks of the kernel \n",
    "    \n",
    "    Out_data structure:\n",
    "    \n",
    "    1d array containing size of each output of the data\n",
    "    \"\"\"\n",
    "    \n",
    "    def configure_host_device(self, ctx, queue, kernel, input_data, out_data):\n",
    "        \n",
    "        Buffers_in= []\n",
    "        \n",
    "        Buffers_out= []\n",
    "        \n",
    "        prg= cl.Program(ctx, kernel).build()\n",
    "        \n",
    "        for i in range(len(input_data)):\n",
    "            \n",
    "            buffer= cl.Buffer(ctx, cl.mem_flags.READ_ONLY, size= input_data[i].nbytes)\n",
    "            \n",
    "            Buffers_in.append(buffer)\n",
    "            \n",
    "            cl.enqueue_copy(queue, src= input_data[i], dest= buffer)\n",
    "            \n",
    "        for i in range(len(out_data)):\n",
    "            \n",
    "            Buffers_out.append(cl.Buffer(ctx, cl.mem_flags.READ_WRITE, size= out_data[i]))\n",
    "            \n",
    "        Buffers= Buffers_out+Buffers_in \n",
    "        \n",
    "        return (Buffers, prg)\n",
    "    \n",
    "    \"\"\" following routine assumes that kernel arguments are in desired order i.e out --> in \"\"\"\n",
    "    \n",
    "    def enqueue_task(self, ctx, queue, prg, Buffers):\n",
    "                \n",
    "        prg.process(queue,(1000,), (10,), *Buffers)\n",
    "      \n",
    "        return None\n",
    "        \n",
    "    \"\"\" compute data given back to the host\"\"\"\n",
    "    \n",
    "    def copy_device_host(self, queue, Buffers, out_data):\n",
    "        \n",
    "        output= []\n",
    "        \n",
    "        for i in range(len(out_data)):\n",
    "            \n",
    "            len_arr= int(out_data[i]/4)\n",
    "            \n",
    "            temp_host= np.array([0 for i in range(len_arr)], dtype= np.float32)\n",
    "            \n",
    "            out_host= np.empty_like(temp_host)\n",
    "            \n",
    "            cl.enqueue_copy(queue, src= Buffers[i], dest= out_host)\n",
    "            \n",
    "            output.append(out_host)\n",
    "        \n",
    "        return output\n",
    "    \n",
    "    \"\"\" Release buffers once computing is done and data is transfered to the host \"\"\"\n",
    "    \n",
    "    def free_buffers(self, Buffers):\n",
    "        \n",
    "        for i in range(len(Buffers)):\n",
    "            \n",
    "            Buffers[i].release()\n",
    "        \n",
    "        return None"
   ]
  },
  {
   "cell_type": "code",
   "execution_count": 7,
   "id": "51190ab2",
   "metadata": {},
   "outputs": [],
   "source": [
    "\"\"\" kernel space \"\"\"\n",
    "\n",
    "kernel= \"\"\"\n",
    "\n",
    "__kernel void process(__global float* c, __global float* a, __global float* b)\n",
    "{\n",
    "\n",
    " int gid= get_global_id(0);\n",
    " \n",
    " c[gid]= a[gid]+b[gid];\n",
    " \n",
    "}\n",
    "\n",
    "\"\"\""
   ]
  },
  {
   "cell_type": "code",
   "execution_count": 8,
   "id": "9cdb76f4",
   "metadata": {
    "scrolled": false
   },
   "outputs": [],
   "source": [
    "\"\"\" Server Simulation \"\"\"\n",
    "\n",
    "input_data= np.array([[i for i in range(1000)] for i in range(2)], dtype= np.float32)\n",
    "\n",
    "out_data= [input_data[0].nbytes]\n",
    "\n",
    "tasks= [[kernel, input_data, out_data] for i in range(100)]\n",
    "\n",
    "task_scheduler= Task_Scheduler()\n",
    "\n",
    "times= []\n",
    "\n",
    "intel_device= 0\n",
    "\n",
    "nvidia_device= 1\n",
    "\n",
    "device_state= 0\n",
    "\n",
    "intel_device_load= 0\n",
    "\n",
    "nvidia_device_load= 0\n",
    "\n",
    "load_intel= []\n",
    "\n",
    "load_nvidia= []\n",
    "\n",
    "time_slots= 100\n",
    "\n",
    "\"\"\" Server is run for 100 time slots. At each time slot, server receives random tasks from the users.\"\"\"\n",
    "\"\"\" the scheduler schedules the tasks at the hardware platform\"\"\"\n",
    "\n",
    "for slot in range(time_slots):\n",
    "    \n",
    "    tasks= [[kernel, input_data, out_data] for i in range(random.randint(1,100))]\n",
    "    \n",
    "    intel_device_load= 0\n",
    "    \n",
    "    nvidia_device_load= 0 \n",
    "\n",
    "    for task in tasks:\n",
    "\n",
    "        if(device_state == intel_device):\n",
    "\n",
    "            intel_device_load+=1\n",
    "\n",
    "        elif(device_state == nvidia_device):\n",
    "\n",
    "            nvidia_device_load+=1\n",
    "\n",
    "        start= time.time()\n",
    "\n",
    "        task_scheduler.offload_to_device(task)\n",
    "\n",
    "        end= time.time()\n",
    "\n",
    "        times.append((end-start)*10**3)\n",
    "\n",
    "        task_scheduler.device_update_state()\n",
    "\n",
    "        device_state= task_scheduler.device_state\n",
    "\n",
    "    load_intel.append(intel_device_load)\n",
    "\n",
    "    load_nvidia.append(nvidia_device_load)\n",
    "\n"
   ]
  },
  {
   "cell_type": "code",
   "execution_count": 9,
   "id": "1e4c5fac",
   "metadata": {},
   "outputs": [
    {
     "data": {
      "text/plain": [
       "Text(0.5, 1.0, 'Execution time on the heterogenous platform')"
      ]
     },
     "execution_count": 9,
     "metadata": {},
     "output_type": "execute_result"
    },
    {
     "data": {
      "image/png": "[encoded data removed]",
      "text/plain": [
       "<Figure size 640x480 with 1 Axes>"
      ]
     },
     "metadata": {},
     "output_type": "display_data"
    }
   ],
   "source": [
    "X= [i for i in range(len(times))]\n",
    "\n",
    "plt.plot(X, times)\n",
    "\n",
    "plt.xlabel(\"Number of tasks\")\n",
    "\n",
    "plt.ylabel(\"Time taken in ms\")\n",
    "\n",
    "plt.title(\"Execution time on the heterogenous platform\")"
   ]
  },
  {
   "cell_type": "code",
   "execution_count": 10,
   "id": "856a05f9",
   "metadata": {},
   "outputs": [
    {
     "name": "stdout",
     "output_type": "stream",
     "text": [
      "60.37618082110621\n"
     ]
    }
   ],
   "source": [
    "\"\"\"average compute time of generated tasks on the given platforms\"\"\"\n",
    "\n",
    "avg= np.mean(times)\n",
    "\n",
    "print(avg)"
   ]
  },
  {
   "cell_type": "code",
   "execution_count": 11,
   "id": "0346730c",
   "metadata": {
    "scrolled": true
   },
   "outputs": [
    {
     "data": {
      "text/plain": [
       "Text(0.5, 1.0, 'Load on Intel graphics card at each time slot')"
      ]
     },
     "execution_count": 11,
     "metadata": {},
     "output_type": "execute_result"
    },
    {
     "data": {
      "image/png": "[encoded data removed]",
      "text/plain": [
       "<Figure size 640x480 with 1 Axes>"
      ]
     },
     "metadata": {},
     "output_type": "display_data"
    }
   ],
   "source": [
    "#print(load_intel)\n",
    "#print(load_nvidia)\n",
    "\n",
    "X= [i for i in range(100)]\n",
    "\n",
    "plt.bar(X, load_intel, width= 0.4)\n",
    "\n",
    "plt.xlabel(\"Time slot\")\n",
    "\n",
    "plt.ylabel(\"Load on the device\")\n",
    "\n",
    "plt.title(\"Load on Intel graphics card at each time slot\")\n"
   ]
  },
  {
   "cell_type": "code",
   "execution_count": 12,
   "id": "a9812459",
   "metadata": {},
   "outputs": [
    {
     "data": {
      "text/plain": [
       "Text(0.5, 1.0, 'Load on Nvidia Quadro M1200 GPU at each time slot')"
      ]
     },
     "execution_count": 12,
     "metadata": {},
     "output_type": "execute_result"
    },
    {
     "data": {
      "image/png": "[encoded data removed]",
      "text/plain": [
       "<Figure size 640x480 with 1 Axes>"
      ]
     },
     "metadata": {},
     "output_type": "display_data"
    }
   ],
   "source": [
    "plt.bar(X, load_nvidia, width= 0.4)\n",
    "\n",
    "plt.xlabel(\"Time slot\")\n",
    "\n",
    "plt.ylabel(\"Load on the device\")\n",
    "\n",
    "plt.title(\"Load on Nvidia Quadro M1200 GPU at each time slot\")\n",
    "\n"
   ]
  },
  {
   "cell_type": "code",
   "execution_count": 13,
   "id": "99d95a4c",
   "metadata": {},
   "outputs": [
    {
     "name": "stdout",
     "output_type": "stream",
     "text": [
      "60.37618082110621\n",
      "42.25\n",
      "10.11\n"
     ]
    }
   ],
   "source": [
    "print(np.mean(times))\n",
    "\n",
    "print(np.mean(load_intel))\n",
    "\n",
    "print(np.mean(load_nvidia))"
   ]
  }
 ],
 "metadata": {
  "kernelspec": {
   "display_name": "Python 3 (ipykernel)",
   "language": "python",
   "name": "python3"
  },
  "language_info": {
   "codemirror_mode": {
    "name": "ipython",
    "version": 3
   },
   "file_extension": ".py",
   "mimetype": "text/x-python",
   "name": "python",
   "nbconvert_exporter": "python",
   "pygments_lexer": "ipython3",
   "version": "3.10.9"
  }
 },
 "nbformat": 4,
 "nbformat_minor": 5
}
